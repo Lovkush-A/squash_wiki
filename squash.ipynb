{
 "cells": [
  {
   "cell_type": "code",
   "execution_count": null,
   "metadata": {},
   "outputs": [],
   "source": [
    "import requests\n",
    "from bs4 import BeautifulSoup\n",
    "import pandas as pd\n",
    "import numpy as np\n",
    "\n",
    "from sklearn.decomposition import PCA"
   ]
  },
  {
   "cell_type": "markdown",
   "metadata": {},
   "source": [
    "# Scrape data "
   ]
  },
  {
   "cell_type": "code",
   "execution_count": null,
   "metadata": {},
   "outputs": [],
   "source": [
    "urls = ['https://en.wikipedia.org/wiki/Official_Women%27s_Squash_World_Ranking',\n",
    "    'https://en.wikipedia.org/wiki/Official_Men%27s_Squash_World_Ranking']"
   ]
  },
  {
   "cell_type": "code",
   "execution_count": null,
   "metadata": {},
   "outputs": [],
   "source": [
    "def is_not_numeric(s):\n",
    "    try:\n",
    "        float(s)\n",
    "    except ValueError:\n",
    "        return True\n",
    "    else:\n",
    "        return False\n",
    "\n",
    "\n",
    "def table_to_pandas(table):\n",
    "    \"\"\"\n",
    "    go to the urls to see what the tables look like. pointers\n",
    "    * want to ignore first column (hence use `[1:]` in couple of places) \n",
    "      as that first column is just the ranks 1 to 10\n",
    "    * use is_not_numeric to ignore the ranking points\n",
    "    * top row of table has years\n",
    "    \n",
    "    returns pd.dataframe\n",
    "        index is from 1 to 10\n",
    "        column names are the years\n",
    "        entries are player names\n",
    "    \"\"\"\n",
    "    rows = table.find_all(\"tr\")\n",
    "    headers = [col.text.replace(\"\\n\", \"\") for col in rows[0].find_all(\"th\")[1:]]\n",
    "\n",
    "    data = [\n",
    "        [\n",
    "            col.text.replace(\"\\n\", \"\")\n",
    "            for col in row.find_all(\"td\")[1:]\n",
    "            if is_not_numeric(col.text.replace(\"\\n\", \"\"))\n",
    "        ]\n",
    "        for row in rows[1:]\n",
    "    ]\n",
    "\n",
    "    return pd.DataFrame(data, columns=headers, index=range(1, 11))\n",
    "\n",
    "\n",
    "def url_to_pandas(url):\n",
    "    \"\"\"\n",
    "    given url, produce dataframe\n",
    "    \"\"\"\n",
    "    html = requests.get(url).text\n",
    "    start = html.find('id=\"Year_end_world_top_10_players')\n",
    "    end = html.find('id=\"Year-end_number_1')\n",
    "    tables = BeautifulSoup(html[start:end], \"html.parser\").find_all(\"table\")\n",
    "    \n",
    "    # tables[1:] because first table does not fit the pattern of the other tables\n",
    "    # go to the urls to see\n",
    "    df = pd.concat([table_to_pandas(t) for t in tables[1:]], axis=1)\n",
    "    \n",
    "    # df.stack() creates new frame with multiindex consistenting of old\n",
    "    # index and old columns. so df_stack multiindexx would be [rank, year] and have\n",
    "    # single feature column of player names\n",
    "    df_stack = df.stack().reset_index()\n",
    "    df_stack.columns = [\"rank\", \"year\", \"player\"]\n",
    "\n",
    "    return df_stack"
   ]
  },
  {
   "cell_type": "code",
   "execution_count": null,
   "metadata": {},
   "outputs": [],
   "source": [
    "df_m = url_to_pandas(urls[1])\n",
    "df_f = url_to_pandas(urls[0])"
   ]
  },
  {
   "cell_type": "code",
   "execution_count": null,
   "metadata": {},
   "outputs": [],
   "source": [
    "df_m.to_csv('male_raw.csv')\n",
    "df_f.to_csv('female_raw.csv')"
   ]
  },
  {
   "cell_type": "code",
   "execution_count": null,
   "metadata": {},
   "outputs": [],
   "source": []
  },
  {
   "cell_type": "markdown",
   "metadata": {},
   "source": [
    "# Process data"
   ]
  },
  {
   "cell_type": "code",
   "execution_count": null,
   "metadata": {},
   "outputs": [],
   "source": [
    "def player_summaries(df):\n",
    "    players = df.groupby(\"player\").agg(\n",
    "        {\"rank\": [np.mean, \"count\", np.min, np.max], \"year\": [np.min, np.max]}\n",
    "    )\n",
    "\n",
    "    players.columns = [\n",
    "        \"average_rank\",\n",
    "        \"years_in_top10\",\n",
    "        \"best_rank\",\n",
    "        \"worst_rank\",\n",
    "        \"earliest_year\",\n",
    "        \"latest_year\",\n",
    "    ]\n",
    "    players.sort_values(by=[\"average_rank\"], inplace=True)\n",
    "\n",
    "    return players"
   ]
  },
  {
   "cell_type": "code",
   "execution_count": null,
   "metadata": {},
   "outputs": [],
   "source": [
    "players_f = player_summaries(pd.read_csv('female_raw.csv', index_col=0))\n",
    "players_m = player_summaries(pd.read_csv('male_raw.csv', index_col=0))"
   ]
  },
  {
   "cell_type": "code",
   "execution_count": null,
   "metadata": {},
   "outputs": [],
   "source": [
    "players_m.to_csv('male.csv')\n",
    "players_f.to_csv('female.csv')"
   ]
  },
  {
   "cell_type": "code",
   "execution_count": null,
   "metadata": {},
   "outputs": [],
   "source": []
  },
  {
   "cell_type": "markdown",
   "metadata": {},
   "source": [
    "# visuals and clustering and dimensionality reduction"
   ]
  },
  {
   "cell_type": "code",
   "execution_count": null,
   "metadata": {},
   "outputs": [],
   "source": [
    "players_m = pd.read_csv('male.csv', index_col=0)"
   ]
  },
  {
   "cell_type": "code",
   "execution_count": null,
   "metadata": {},
   "outputs": [],
   "source": [
    "players_m"
   ]
  },
  {
   "cell_type": "code",
   "execution_count": null,
   "metadata": {},
   "outputs": [],
   "source": []
  }
 ],
 "metadata": {
  "kernelspec": {
   "display_name": "Python 3",
   "language": "python",
   "name": "python3"
  },
  "language_info": {
   "codemirror_mode": {
    "name": "ipython",
    "version": 3
   },
   "file_extension": ".py",
   "mimetype": "text/x-python",
   "name": "python",
   "nbconvert_exporter": "python",
   "pygments_lexer": "ipython3",
   "version": "3.9.5"
  }
 },
 "nbformat": 4,
 "nbformat_minor": 4
}
