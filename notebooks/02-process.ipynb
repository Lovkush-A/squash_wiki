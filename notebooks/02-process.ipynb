{
 "cells": [
  {
   "cell_type": "code",
   "execution_count": null,
   "metadata": {},
   "outputs": [],
   "source": [
    "import numpy as np\n",
    "import pandas as pd"
   ]
  },
  {
   "cell_type": "markdown",
   "metadata": {},
   "source": [
    "# Process data\n",
    "\n",
    "This notebook processes the raw data. The processing is just grouping the data by player and computing various aggregate statistics.\n",
    "\n",
    "Input files (created by `01-scrape.ipynb`):\n",
    "\n",
    "* 'female_raw.csv'\n",
    "* 'male_raw.csv'\n",
    "\n",
    "Output files:\n",
    "\n",
    "* 'female_processed.csv'\n",
    "* 'male_processed.csv'"
   ]
  },
  {
   "cell_type": "code",
   "execution_count": null,
   "metadata": {},
   "outputs": [],
   "source": [
    "def create_player_statistics(df):\n",
    "    \"\"\"\n",
    "    create dataframe of aggregate statistics of individual players based on df\n",
    "    \n",
    "    Args:\n",
    "        df\n",
    "            dataframe containing raw data with columns: rank, year, and player\n",
    "    Returns:\n",
    "        players_df\n",
    "            dataframe containing aggregate player statistics from df\n",
    "    \"\"\"\n",
    "    players = df.groupby(\"player\").agg(\n",
    "        {\"rank\": [np.mean, \"count\", np.min, np.max], \"year\": [np.min, np.max]}\n",
    "    )\n",
    "\n",
    "    players.columns = [\n",
    "        \"average_rank\",\n",
    "        \"years_in_top10\",\n",
    "        \"best_rank\",\n",
    "        \"worst_rank\",\n",
    "        \"earliest_year\",\n",
    "        \"latest_year\",\n",
    "    ]\n",
    "    players.sort_values(by=[\"average_rank\"], inplace=True)\n",
    "\n",
    "    return players"
   ]
  },
  {
   "cell_type": "code",
   "execution_count": null,
   "metadata": {},
   "outputs": [],
   "source": [
    "players_f = create_player_statistics(pd.read_csv('female_raw.csv', index_col=0))\n",
    "players_m = create_player_statistics(pd.read_csv('male_raw.csv', index_col=0))"
   ]
  },
  {
   "cell_type": "code",
   "execution_count": null,
   "metadata": {},
   "outputs": [],
   "source": [
    "players_m.to_csv('male_processed.csv')\n",
    "players_f.to_csv('female_processed.csv')"
   ]
  },
  {
   "cell_type": "code",
   "execution_count": null,
   "metadata": {},
   "outputs": [],
   "source": []
  }
 ],
 "metadata": {
  "kernelspec": {
   "display_name": "Python 3",
   "language": "python",
   "name": "python3"
  },
  "language_info": {
   "codemirror_mode": {
    "name": "ipython",
    "version": 3
   },
   "file_extension": ".py",
   "mimetype": "text/x-python",
   "name": "python",
   "nbconvert_exporter": "python",
   "pygments_lexer": "ipython3",
   "version": "3.9.5"
  }
 },
 "nbformat": 4,
 "nbformat_minor": 4
}
